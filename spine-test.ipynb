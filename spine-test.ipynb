{
 "cells": [
  {
   "cell_type": "code",
   "execution_count": 6,
   "metadata": {},
   "outputs": [],
   "source": [
    "using IJulia\n",
    "using JuMP\n",
    "using SpineModel\n"
   ]
  },
  {
   "cell_type": "code",
   "execution_count": 7,
   "metadata": {},
   "outputs": [
    {
     "name": "stdout",
     "output_type": "stream",
     "text": [
      "\u001b[0m\u001b[1mCreating convenience functions...\u001b[22m\n",
      "  2.395856 seconds (105.23 k allocations: 4.589 MiB)\n",
      "\u001b[0m\u001b[1mCreating temporal structure...\u001b[22m\n"
     ]
    },
    {
     "ename": "UndefVarError",
     "evalue": "UndefVarError: unique_sorted not defined",
     "output_type": "error",
     "traceback": [
      "UndefVarError: unique_sorted not defined",
      "",
      "Stacktrace:",
      " [1] generate_time_slice() at C:\\Users\\achintamiri\\.julia\\packages\\SpineModel\\fxSc5\\src\\temporals\\generate_time_slice.jl:149",
      " [2] macro expansion at C:\\Users\\achintamiri\\.julia\\packages\\SpineModel\\fxSc5\\src\\helpers\\run_spinemodel.jl:76 [inlined]",
      " [3] #run_spinemodel#97(::Type, ::Bool, ::getfield(Main, Symbol(\"##13#14\")), ::String, ::typeof(run_spinemodel), ::String, ::String) at C:\\Users\\achintamiri\\.julia\\packages\\SpineModel\\fxSc5\\src\\helpers\\run_spinemodel.jl:75",
      " [4] (::getfield(SpineModel, Symbol(\"#kw##run_spinemodel\")))(::NamedTuple{(:cleanup, :extend),Tuple{Bool,getfield(Main, Symbol(\"##13#14\"))}}, ::typeof(run_spinemodel), ::String, ::String) at .\\none:0",
      " [5] top-level scope at In[7]:16"
     ]
    }
   ],
   "source": [
    "function constraint_stor_cyclic(m::Model)\n",
    "    @fetch stor_state = m.ext[:variables]\n",
    "    constr_dict = m.ext[:constraints][:stor_cyclic] = Dict()\n",
    "    stor_start = [first(stor_state_indices(storage=stor, commodity=c)) for (stor, c) in storage__commodity()]\n",
    "    for (stor, c, t_first) in stor_start\n",
    "        constr_dict[stor, c] = @constraint(\n",
    "            m,\n",
    "            stor_state[stor, c, t_first]\n",
    "            ==\n",
    "            stor_state[stor, c, time_slice()[end]]\n",
    "        )\n",
    "    end\n",
    "end\n",
    "input_url = \"sqlite:///converted_inputs.sqlite\"\n",
    "output_url = \"sqlite:///Output_db.sqlite\"\n",
    "\n",
    "m = run_spinemodel(input_url, output_url; cleanup=true, extend=m->constraint_stor_cyclic(m))\n",
    "println(\"*** Active constraints: ***\")\n",
    "for key in keys(m.ext[:constraints])\n",
    "    !isempty(m.ext[:constraints][key]) && println(key)\n",
    "end\n",
    "println(\"*** Active variables: ***\")\n",
    "for key in keys(m.ext[:variables])\n",
    "    !isempty(m.ext[:variables][key]) && println(key)\n",
    "end"
   ]
  },
  {
   "cell_type": "code",
   "execution_count": null,
   "metadata": {},
   "outputs": [],
   "source": []
  },
  {
   "cell_type": "code",
   "execution_count": null,
   "metadata": {},
   "outputs": [],
   "source": []
  },
  {
   "cell_type": "code",
   "execution_count": null,
   "metadata": {},
   "outputs": [],
   "source": []
  }
 ],
 "metadata": {
  "kernelspec": {
   "display_name": "Julia 1.2.0",
   "language": "julia",
   "name": "julia-1.2"
  },
  "language_info": {
   "file_extension": ".jl",
   "mimetype": "application/julia",
   "name": "julia",
   "version": "1.2.0"
  }
 },
 "nbformat": 4,
 "nbformat_minor": 2
}
