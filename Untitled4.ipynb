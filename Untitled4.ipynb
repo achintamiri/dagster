{
 "cells": [
  {
   "cell_type": "code",
   "execution_count": 3,
   "metadata": {},
   "outputs": [
    {
     "name": "stderr",
     "output_type": "stream",
     "text": [
      "┌ Info: Precompiling Pandas [eadc2687-ae89-51f9-a5d9-86b5a6373a9c]\n",
      "└ @ Base loading.jl:1192\n"
     ]
    }
   ],
   "source": [
    "using Pandas"
   ]
  },
  {
   "cell_type": "code",
   "execution_count": null,
   "metadata": {},
   "outputs": [],
   "source": [
    "df1 = read_csv(\"file1.csv\")"
   ]
  },
  {
   "cell_type": "code",
   "execution_count": null,
   "metadata": {},
   "outputs": [],
   "source": [
    "df1 = read_csv(\"file1.csv\")"
   ]
  },
  {
   "cell_type": "code",
   "execution_count": 17,
   "metadata": {},
   "outputs": [
    {
     "data": {
      "text/plain": [
       "       Year  ...                             Industry_code_ANZSIC06\n",
       "0      2018  ...  ANZSIC06 divisions A-S (excluding classes K633...\n",
       "1      2018  ...  ANZSIC06 divisions A-S (excluding classes K633...\n",
       "2      2018  ...  ANZSIC06 divisions A-S (excluding classes K633...\n",
       "3      2018  ...  ANZSIC06 divisions A-S (excluding classes K633...\n",
       "4      2018  ...  ANZSIC06 divisions A-S (excluding classes K633...\n",
       "5      2018  ...  ANZSIC06 divisions A-S (excluding classes K633...\n",
       "6      2018  ...  ANZSIC06 divisions A-S (excluding classes K633...\n",
       "7      2018  ...  ANZSIC06 divisions A-S (excluding classes K633...\n",
       "8      2018  ...  ANZSIC06 divisions A-S (excluding classes K633...\n",
       "9      2018  ...  ANZSIC06 divisions A-S (excluding classes K633...\n",
       "10     2018  ...  ANZSIC06 divisions A-S (excluding classes K633...\n",
       "11     2018  ...  ANZSIC06 divisions A-S (excluding classes K633...\n",
       "12     2018  ...  ANZSIC06 divisions A-S (excluding classes K633...\n",
       "13     2018  ...  ANZSIC06 divisions A-S (excluding classes K633...\n",
       "14     2018  ...  ANZSIC06 divisions A-S (excluding classes K633...\n",
       "15     2018  ...  ANZSIC06 divisions A-S (excluding classes K633...\n",
       "16     2018  ...  ANZSIC06 divisions A-S (excluding classes K633...\n",
       "17     2018  ...  ANZSIC06 divisions A-S (excluding classes K633...\n",
       "18     2018  ...  ANZSIC06 divisions A-S (excluding classes K633...\n",
       "19     2018  ...  ANZSIC06 divisions A-S (excluding classes K633...\n",
       "20     2018  ...  ANZSIC06 divisions A-S (excluding classes K633...\n",
       "21     2018  ...  ANZSIC06 divisions A-S (excluding classes K633...\n",
       "22     2018  ...  ANZSIC06 divisions A-S (excluding classes K633...\n",
       "23     2018  ...  ANZSIC06 divisions A-S (excluding classes K633...\n",
       "24     2018  ...  ANZSIC06 divisions A-S (excluding classes K633...\n",
       "25     2018  ...  ANZSIC06 divisions A-S (excluding classes K633...\n",
       "26     2018  ...  ANZSIC06 divisions A-S (excluding classes K633...\n",
       "27     2018  ...  ANZSIC06 divisions A-S (excluding classes K633...\n",
       "28     2018  ...  ANZSIC06 divisions A-S (excluding classes K633...\n",
       "29     2018  ...  ANZSIC06 divisions A-S (excluding classes K633...\n",
       "...     ...  ...                                                ...\n",
       "27780  2013  ...  ANZSIC06 groups C111, C112, C113, C114, C115, ...\n",
       "27781  2013  ...  ANZSIC06 groups C111, C112, C113, C114, C115, ...\n",
       "27782  2013  ...  ANZSIC06 groups C111, C112, C113, C114, C115, ...\n",
       "27783  2013  ...  ANZSIC06 groups C111, C112, C113, C114, C115, ...\n",
       "27784  2013  ...  ANZSIC06 groups C111, C112, C113, C114, C115, ...\n",
       "27785  2013  ...  ANZSIC06 groups C111, C112, C113, C114, C115, ...\n",
       "27786  2013  ...  ANZSIC06 groups C111, C112, C113, C114, C115, ...\n",
       "27787  2013  ...  ANZSIC06 groups C111, C112, C113, C114, C115, ...\n",
       "27788  2013  ...  ANZSIC06 groups C111, C112, C113, C114, C115, ...\n",
       "27789  2013  ...  ANZSIC06 groups C111, C112, C113, C114, C115, ...\n",
       "27790  2013  ...  ANZSIC06 groups C111, C112, C113, C114, C115, ...\n",
       "27791  2013  ...  ANZSIC06 groups C111, C112, C113, C114, C115, ...\n",
       "27792  2013  ...  ANZSIC06 groups C111, C112, C113, C114, C115, ...\n",
       "27793  2013  ...  ANZSIC06 groups C111, C112, C113, C114, C115, ...\n",
       "27794  2013  ...  ANZSIC06 groups C111, C112, C113, C114, C115, ...\n",
       "27795  2013  ...  ANZSIC06 groups C111, C112, C113, C114, C115, ...\n",
       "27796  2013  ...  ANZSIC06 groups C111, C112, C113, C114, C115, ...\n",
       "27797  2013  ...  ANZSIC06 groups C111, C112, C113, C114, C115, ...\n",
       "27798  2013  ...  ANZSIC06 groups C111, C112, C113, C114, C115, ...\n",
       "27799  2013  ...  ANZSIC06 groups C111, C112, C113, C114, C115, ...\n",
       "27800  2013  ...  ANZSIC06 groups C111, C112, C113, C114, C115, ...\n",
       "27801  2013  ...  ANZSIC06 groups C111, C112, C113, C114, C115, ...\n",
       "27802  2013  ...  ANZSIC06 groups C111, C112, C113, C114, C115, ...\n",
       "27803  2013  ...  ANZSIC06 groups C111, C112, C113, C114, C115, ...\n",
       "27804  2013  ...  ANZSIC06 groups C111, C112, C113, C114, C115, ...\n",
       "27805  2013  ...  ANZSIC06 groups C111, C112, C113, C114, C115, ...\n",
       "27806  2013  ...  ANZSIC06 groups C111, C112, C113, C114, C115, ...\n",
       "27807  2013  ...  ANZSIC06 groups C111, C112, C113, C114, C115, ...\n",
       "27808  2013  ...  ANZSIC06 groups C111, C112, C113, C114, C115, ...\n",
       "27809  2013  ...  ANZSIC06 groups C111, C112, C113, C114, C115, ...\n",
       "\n",
       "[27810 rows x 20 columns]\n"
      ]
     },
     "execution_count": 17,
     "metadata": {},
     "output_type": "execute_result"
    }
   ],
   "source": [
    "r3 = Pandas.concat([df1,df2], axis=1)"
   ]
  },
  {
   "cell_type": "code",
   "execution_count": null,
   "metadata": {},
   "outputs": [],
   "source": []
  }
 ],
 "metadata": {
  "kernelspec": {
   "display_name": "Julia 1.0.4",
   "language": "julia",
   "name": "julia-1.0"
  },
  "language_info": {
   "file_extension": ".jl",
   "mimetype": "application/julia",
   "name": "julia",
   "version": "1.0.4"
  }
 },
 "nbformat": 4,
 "nbformat_minor": 2
}
