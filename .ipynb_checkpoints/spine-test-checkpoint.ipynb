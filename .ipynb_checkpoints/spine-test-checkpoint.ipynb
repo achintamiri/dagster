{
 "cells": [
  {
   "cell_type": "code",
   "execution_count": 5,
   "metadata": {},
   "outputs": [],
   "source": [
    "using IJulia"
   ]
  },
  {
   "cell_type": "code",
   "execution_count": 7,
   "metadata": {},
   "outputs": [
    {
     "name": "stdout",
     "output_type": "stream",
     "text": [
      "\u001b[0m\u001b[1mCreating convenience functions...\u001b[22m\n"
     ]
    },
    {
     "ename": "PyCall.PyError",
     "evalue": "PyError ($(Expr(:escape, :(ccall(#= C:\\Users\\achintamiri\\.julia\\packages\\PyCall\\ttONZ\\src\\pyfncall.jl:44 =# @pysym(:PyObject_Call), PyPtr, (PyPtr, PyPtr, PyPtr), o, pyargsptr, kw))))) <class 'spinedb_api.exception.SpineDBAPIError'>\nSpineDBAPIError(\"Could not connect to 'converted_inputs.sqlite': Could not parse rfc1738 URL from string 'converted_inputs.sqlite'. Please make sure that 'converted_inputs.sqlite' is the URL of a Spine database and try again.\")\n  File \"C:\\Users\\achintamiri\\AppData\\Roaming\\Python\\Python37\\site-packages\\spinedb_api\\database_mapping.py\", line 33, in __init__\n    super().__init__(db_url, username=username, upgrade=upgrade)\n  File \"C:\\Users\\achintamiri\\AppData\\Roaming\\Python\\Python37\\site-packages\\spinedb_api\\database_mapping_query_mixin.py\", line 30, in __init__\n    super().__init__(*args, **kwargs)\n  File \"C:\\Users\\achintamiri\\AppData\\Roaming\\Python\\Python37\\site-packages\\spinedb_api\\database_mapping_base.py\", line 101, in __init__\n    self._create_engine_and_session()\n  File \"C:\\Users\\achintamiri\\AppData\\Roaming\\Python\\Python37\\site-packages\\spinedb_api\\database_mapping_base.py\", line 114, in _create_engine_and_session\n    \"of a Spine database and try again.\".format(self.db_url, str(e))\n",
     "output_type": "error",
     "traceback": [
      "PyError ($(Expr(:escape, :(ccall(#= C:\\Users\\achintamiri\\.julia\\packages\\PyCall\\ttONZ\\src\\pyfncall.jl:44 =# @pysym(:PyObject_Call), PyPtr, (PyPtr, PyPtr, PyPtr), o, pyargsptr, kw))))) <class 'spinedb_api.exception.SpineDBAPIError'>\nSpineDBAPIError(\"Could not connect to 'converted_inputs.sqlite': Could not parse rfc1738 URL from string 'converted_inputs.sqlite'. Please make sure that 'converted_inputs.sqlite' is the URL of a Spine database and try again.\")\n  File \"C:\\Users\\achintamiri\\AppData\\Roaming\\Python\\Python37\\site-packages\\spinedb_api\\database_mapping.py\", line 33, in __init__\n    super().__init__(db_url, username=username, upgrade=upgrade)\n  File \"C:\\Users\\achintamiri\\AppData\\Roaming\\Python\\Python37\\site-packages\\spinedb_api\\database_mapping_query_mixin.py\", line 30, in __init__\n    super().__init__(*args, **kwargs)\n  File \"C:\\Users\\achintamiri\\AppData\\Roaming\\Python\\Python37\\site-packages\\spinedb_api\\database_mapping_base.py\", line 101, in __init__\n    self._create_engine_and_session()\n  File \"C:\\Users\\achintamiri\\AppData\\Roaming\\Python\\Python37\\site-packages\\spinedb_api\\database_mapping_base.py\", line 114, in _create_engine_and_session\n    \"of a Spine database and try again.\".format(self.db_url, str(e))\n",
      "",
      "Stacktrace:",
      " [1] pyerr_check at C:\\Users\\achintamiri\\.julia\\packages\\PyCall\\ttONZ\\src\\exception.jl:60 [inlined]",
      " [2] pyerr_check at C:\\Users\\achintamiri\\.julia\\packages\\PyCall\\ttONZ\\src\\exception.jl:64 [inlined]",
      " [3] macro expansion at C:\\Users\\achintamiri\\.julia\\packages\\PyCall\\ttONZ\\src\\exception.jl:84 [inlined]",
      " [4] __pycall!(::PyCall.PyObject, ::Ptr{PyCall.PyObject_struct}, ::PyCall.PyObject, ::PyCall.PyObject) at C:\\Users\\achintamiri\\.julia\\packages\\PyCall\\ttONZ\\src\\pyfncall.jl:44",
      " [5] _pycall!(::PyCall.PyObject, ::PyCall.PyObject, ::Tuple{String}, ::Int64, ::PyCall.PyObject) at C:\\Users\\achintamiri\\.julia\\packages\\PyCall\\ttONZ\\src\\pyfncall.jl:29",
      " [6] _pycall!(::PyCall.PyObject, ::PyCall.PyObject, ::Tuple{String}, ::Base.Iterators.Pairs{Symbol,Bool,Tuple{Symbol},NamedTuple{(:upgrade,),Tuple{Bool}}}) at C:\\Users\\achintamiri\\.julia\\packages\\PyCall\\ttONZ\\src\\pyfncall.jl:11",
      " [7] #call#111 at C:\\Users\\achintamiri\\.julia\\packages\\PyCall\\ttONZ\\src\\pyfncall.jl:89 [inlined]",
      " [8] (::getfield(PyCall, Symbol(\"#kw#PyObject\")))(::NamedTuple{(:upgrade,),Tuple{Bool}}, ::PyCall.PyObject, ::String) at .\\none:0",
      " [9] #using_spinedb#63(::Bool, ::typeof(SpineInterface.using_spinedb), ::String, ::Module) at C:\\Users\\achintamiri\\.julia\\packages\\SpineInterface\\cHaYb\\src\\using_spinedb.jl:203",
      " [10] #using_spinedb at .\\none:0 [inlined] (repeats 2 times)",
      " [11] macro expansion at C:\\Users\\achintamiri\\.julia\\packages\\SpineModel\\fxSc5\\src\\helpers\\run_spinemodel.jl:72 [inlined]",
      " [12] macro expansion at .\\util.jl:156 [inlined]",
      " [13] #run_spinemodel#97(::Type, ::Bool, ::getfield(Main, Symbol(\"##9#10\")), ::String, ::typeof(run_spinemodel), ::String, ::String) at C:\\Users\\achintamiri\\.julia\\packages\\SpineModel\\fxSc5\\src\\helpers\\run_spinemodel.jl:71",
      " [14] (::getfield(SpineModel, Symbol(\"#kw##run_spinemodel\")))(::NamedTuple{(:cleanup, :extend),Tuple{Bool,getfield(Main, Symbol(\"##9#10\"))}}, ::typeof(run_spinemodel), ::String, ::String) at .\\none:0",
      " [15] top-level scope at In[7]:18"
     ]
    }
   ],
   "source": [
    "using JuMP\n",
    "using SpineModel\n",
    "function constraint_stor_cyclic(m::Model)\n",
    "    @fetch stor_state = m.ext[:variables]\n",
    "    constr_dict = m.ext[:constraints][:stor_cyclic] = Dict()\n",
    "    stor_start = [first(stor_state_indices(storage=stor, commodity=c)) for (stor, c) in storage__commodity()]\n",
    "    for (stor, c, t_first) in stor_start\n",
    "        constr_dict[stor, c] = @constraint(\n",
    "            m,\n",
    "            stor_state[stor, c, t_first]\n",
    "            ==\n",
    "            stor_state[stor, c, time_slice()[end]]\n",
    "        )\n",
    "    end\n",
    "end\n",
    "input_url = \"sqlite:///converted_inputs.sqlite\"\n",
    "output_url = \"sqlite:///Output_db.sqlite\"\n",
    "\n",
    "m = run_spinemodel(input_url, output_url; cleanup=true, extend=m->constraint_stor_cyclic(m))\n",
    "println(\"*** Active constraints: ***\")\n",
    "for key in keys(m.ext[:constraints])\n",
    "    !isempty(m.ext[:constraints][key]) && println(key)\n",
    "end\n",
    "println(\"*** Active variables: ***\")\n",
    "for key in keys(m.ext[:variables])\n",
    "    !isempty(m.ext[:variables][key]) && println(key)\n",
    "end\n"
   ]
  },
  {
   "cell_type": "code",
   "execution_count": null,
   "metadata": {},
   "outputs": [],
   "source": []
  },
  {
   "cell_type": "code",
   "execution_count": null,
   "metadata": {},
   "outputs": [],
   "source": []
  }
 ],
 "metadata": {
  "kernelspec": {
   "display_name": "Julia 1.2.0",
   "language": "julia",
   "name": "julia-1.2"
  },
  "language_info": {
   "file_extension": ".jl",
   "mimetype": "application/julia",
   "name": "julia",
   "version": "1.2.0"
  }
 },
 "nbformat": 4,
 "nbformat_minor": 2
}
